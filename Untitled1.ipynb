{
  "nbformat": 4,
  "nbformat_minor": 0,
  "metadata": {
    "colab": {
      "provenance": [],
      "authorship_tag": "ABX9TyOktva/868noo5Q5v0tBDU0",
      "include_colab_link": true
    },
    "kernelspec": {
      "name": "python3",
      "display_name": "Python 3"
    },
    "language_info": {
      "name": "python"
    }
  },
  "cells": [
    {
      "cell_type": "markdown",
      "metadata": {
        "id": "view-in-github",
        "colab_type": "text"
      },
      "source": [
        "<a href=\"https://colab.research.google.com/github/yitzu1225/line-chatbot/blob/main/Untitled1.ipynb\" target=\"_parent\"><img src=\"https://colab.research.google.com/assets/colab-badge.svg\" alt=\"Open In Colab\"/></a>"
      ]
    },
    {
      "cell_type": "markdown",
      "source": [
        "#Fintech hw3\n",
        "r11944052王顗慈\n"
      ],
      "metadata": {
        "id": "y02Xa2K3J4BY"
      }
    },
    {
      "cell_type": "code",
      "source": [
        "import pycoin.ecdsa.secp256k1 as secp256k1\n",
        "g = secp256k1.secp256k1_generator"
      ],
      "metadata": {
        "id": "NPW-BXDH5hBl"
      },
      "execution_count": 2,
      "outputs": []
    },
    {
      "cell_type": "markdown",
      "source": [
        "使用'secp256k1'"
      ],
      "metadata": {
        "id": "RNPbyYUyNxzV"
      }
    },
    {
      "cell_type": "code",
      "source": [
        "#1\n",
        "x, y = 4 * g\n",
        "print(\"x =\", hex(x))\n",
        "print(\"y =\", hex(y))"
      ],
      "metadata": {
        "colab": {
          "base_uri": "https://localhost:8080/",
          "height": 0
        },
        "id": "3mRWFSSw5wVB",
        "outputId": "0887e5d8-b481-480e-8886-918cd05c22cf"
      },
      "execution_count": 3,
      "outputs": [
        {
          "output_type": "stream",
          "name": "stdout",
          "text": [
            "x = 0xe493dbf1c10d80f3581e4904930b1404cc6c13900ee0758474fa94abe8c4cd13 \n",
            "y = 0x51ed993ea0d455b75642e2098ea51448d967ae33bfbdfe40cfe97bdc47739922\n"
          ]
        }
      ]
    },
    {
      "cell_type": "code",
      "source": [
        "#2\n",
        "x, y = 5 * g\n",
        "print(\"x =\", hex(x))\n",
        "print(\"y =\", hex(y))"
      ],
      "metadata": {
        "colab": {
          "base_uri": "https://localhost:8080/",
          "height": 0
        },
        "id": "4MLNBxBd57-D",
        "outputId": "0b0148c6-cd3a-42cb-bf46-304cfc5d64b5"
      },
      "execution_count": 4,
      "outputs": [
        {
          "output_type": "stream",
          "name": "stdout",
          "text": [
            "x = 0x2f8bde4d1a07209355b4a7250a5c5128e88b84bddc619ab7cba8d569b240efe4\n",
            "y = 0xd8ac222636e5e3d6d4dba9dda6c9c426f788271bab0d6840dca87d3aa6ac62d6\n"
          ]
        }
      ]
    },
    {
      "cell_type": "code",
      "source": [
        "#3\n",
        "x, y = 4052 * g\n",
        "print(\"x =\", hex(x))\n",
        "print(\"y =\", hex(y))"
      ],
      "metadata": {
        "colab": {
          "base_uri": "https://localhost:8080/",
          "height": 0
        },
        "id": "-Bywibgb6lH3",
        "outputId": "6c853326-f777-48ef-a958-d30411430c84"
      },
      "execution_count": 5,
      "outputs": [
        {
          "output_type": "stream",
          "name": "stdout",
          "text": [
            "x = 0x277955efef9e5ef81a81176950c8e8eea0d2650bfff012cbac3313106769ccb6\n",
            "y = 0x3051854819c93a1aa8fed6d6ca30d58add183d4af8b5269ff90707e249fe9043\n"
          ]
        }
      ]
    },
    {
      "cell_type": "code",
      "source": [
        "#4\n",
        "bin_id = []\n",
        "bin_id = str(bin(4052))[2:]\n",
        "\n",
        "addition = 0\n",
        "double = 0\n",
        "for i in range(1, len(bin_id)):\n",
        "  if bin_id[i] == '1':\n",
        "    addition += 1\n",
        "    double += 1\n",
        "  else:\n",
        "    double += 1\n",
        "\n",
        "print(\"binary: \", bin_id)\n",
        "print(\"doubles: \", double)\n",
        "print(\"additions: \", addition)"
      ],
      "metadata": {
        "colab": {
          "base_uri": "https://localhost:8080/",
          "height": 0
        },
        "id": "wrZwf9Ml7myZ",
        "outputId": "6e17d14e-f56f-4fd7-8cd7-b14ada76c230"
      },
      "execution_count": 12,
      "outputs": [
        {
          "output_type": "stream",
          "name": "stdout",
          "text": [
            "binary:  111111010100\n",
            "doubles:  11\n",
            "additions:  7\n"
          ]
        }
      ]
    },
    {
      "cell_type": "markdown",
      "source": [
        "有兩個以上連續１則用減法"
      ],
      "metadata": {
        "id": "nLu58ZqmJaj8"
      }
    },
    {
      "cell_type": "code",
      "source": [
        "#5\n",
        "sub = 0\n",
        "add = 0\n",
        "double = 0\n",
        "ones = 0\n",
        "for i in range(1, len(bin_id)):\n",
        "  if bin_id[i] == '1':\n",
        "    if i+1 < len(bin_id) and bin_id[i+1] == '1':\n",
        "      double += 1\n",
        "      ones = 1\n",
        "    else:\n",
        "      double += 1\n",
        "      add += 1\n",
        "  else:\n",
        "    if ones == 1:\n",
        "      ones = 0\n",
        "      double += 1\n",
        "      sub += 1\n",
        "    else:\n",
        "      double += 1\n",
        "\n",
        "print(\"binary: \", bin_id)\n",
        "print(\"doubles: \", double)\n",
        "print(\"additions: \", add)\n",
        "print(\"subtractions: \", sub)\n"
      ],
      "metadata": {
        "colab": {
          "base_uri": "https://localhost:8080/",
          "height": 0
        },
        "id": "YXd5Gv839Xc9",
        "outputId": "fac5a854-dd91-4a06-dfeb-43f1db2c1fce"
      },
      "execution_count": 16,
      "outputs": [
        {
          "output_type": "stream",
          "name": "stdout",
          "text": [
            "binary:  111111010100\n",
            "doubles:  11\n",
            "additions:  3\n",
            "subtractions:  1\n"
          ]
        }
      ]
    },
    {
      "cell_type": "code",
      "source": [
        "#6\n",
        "def gcd(a, b, x, y):\n",
        "    if a == 0:\n",
        "        x = 0\n",
        "        y = 1\n",
        "        return x, y, b\n",
        "    \n",
        "    x1 = 0\n",
        "    y1 = 0\n",
        "    x1, y1, gcd_ = gcd(b % a, a, x1, y1)\n",
        "    x, y = y1 - (b // a) * x1, x1\n",
        "    return x, y, gcd_\n",
        "\n",
        "def inverse(a, m):\n",
        "    x, y, gcd_ = gcd(a, m, 0, 0)  \n",
        "    return (x % m + m) % m\n",
        "\n",
        "d = 4052\n",
        "QA = d * g\n",
        "\n",
        "z = 0x38316DC32F31B3BC25DC18A61E682E86837877689209A3EC1562CE59E47CE13B\n",
        "k = 2022\n",
        "x1, y1 = k * g\n",
        "\n",
        "n = g.order() # mod n\n",
        "K = inverse(k, n) # k inverse\n",
        "r = x1 % n\n",
        "s = K * (z + r * d) % n\n",
        "print(\"r =\", hex(r), \"\\ns =\", hex(s))"
      ],
      "metadata": {
        "colab": {
          "base_uri": "https://localhost:8080/",
          "height": 0
        },
        "id": "_8UA9qSGD8Es",
        "outputId": "ea719b3c-7722-4949-e219-376450b47eb3"
      },
      "execution_count": 20,
      "outputs": [
        {
          "output_type": "stream",
          "name": "stdout",
          "text": [
            "r = 0x58311af9c1e5f737d344dfb438fa5868fa3955f10ebff4aaf325582f809e298c \n",
            "s = 0x512bfd0328cbfac56ca59a52b4490a538b557ec4d18baaa13cc2595b05c640d4\n"
          ]
        }
      ]
    },
    {
      "cell_type": "code",
      "source": [
        "#7\n",
        "x, y = QA\n",
        "p = g.curve().p()\n",
        "\n",
        "z = 0x38316DC32F31B3BC25DC18A61E682E86837877689209A3EC1562CE59E47CE13B \n",
        "w = inverse(s, n)\n",
        "u1 = z * w % n\n",
        "u2 = r * w % n\n",
        "x1, y1 = u1 * g + u2 * QA\n",
        "if (r % n == x1): \n",
        "  print(\"Verified\")"
      ],
      "metadata": {
        "colab": {
          "base_uri": "https://localhost:8080/",
          "height": 0
        },
        "id": "1zQ4W_I-I4AU",
        "outputId": "750da27b-0441-431f-9c00-fe5466ce8175"
      },
      "execution_count": 22,
      "outputs": [
        {
          "output_type": "stream",
          "name": "stdout",
          "text": [
            "Verified\n"
          ]
        }
      ]
    },
    {
      "cell_type": "code",
      "source": [
        "#8\n",
        "import pandas as pd\n",
        "import numpy as np\n",
        "\n",
        "df = pd.DataFrame({'x':[1,2,3], \n",
        "                  'y':[10, 20, 4052]})\n",
        "\n",
        "fit = np.polyfit(df['x'], df['y'], 2)\n",
        "equation = np.poly1d(fit)\n",
        "print (\"a = {0:.4f}, b = {1:.4f} c = {2:.4f}\".format(*fit)) "
      ],
      "metadata": {
        "colab": {
          "base_uri": "https://localhost:8080/"
        },
        "id": "rcOdVqflLg9i",
        "outputId": "438c9cf2-2406-4abf-841f-ae3e5a11e755"
      },
      "execution_count": 25,
      "outputs": [
        {
          "output_type": "stream",
          "name": "stdout",
          "text": [
            "a = 2011.0000, b = -6023.0000 c = 4022.0000\n"
          ]
        }
      ]
    }
  ]
}